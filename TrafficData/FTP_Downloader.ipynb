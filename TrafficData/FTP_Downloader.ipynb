{
 "cells": [
  {
   "cell_type": "code",
   "execution_count": 1,
   "metadata": {},
   "outputs": [],
   "source": [
    "from ftplib import FTP"
   ]
  },
  {
   "cell_type": "code",
   "execution_count": 2,
   "metadata": {},
   "outputs": [
    {
     "data": {
      "text/plain": [
       "'230 User logged in.'"
      ]
     },
     "execution_count": 2,
     "metadata": {},
     "output_type": "execute_result"
    }
   ],
   "source": [
    "ftp = FTP('nhtsa.gov')\n",
    "ftp.login()"
   ]
  },
  {
   "cell_type": "code",
   "execution_count": 3,
   "metadata": {},
   "outputs": [],
   "source": [
    "years = range(1975,2019)"
   ]
  },
  {
   "cell_type": "code",
   "execution_count": 4,
   "metadata": {},
   "outputs": [
    {
     "data": {
      "text/plain": [
       "'250 CWD command successful.'"
      ]
     },
     "execution_count": 4,
     "metadata": {},
     "output_type": "execute_result"
    }
   ],
   "source": [
    "ftp.cwd('FARS')"
   ]
  },
  {
   "cell_type": "code",
   "execution_count": 5,
   "metadata": {},
   "outputs": [
    {
     "name": "stdout",
     "output_type": "stream",
     "text": [
      "2018/National  FARS2018NationalCSV.zip\n",
      "Complete FARS2018NationalCSV.zip\n"
     ]
    }
   ],
   "source": [
    "for year in years:\n",
    "    cwd_path = f'{year}/National'\n",
    "    cwd_back = '../..'\n",
    "    base_name = f'FARS{year}NationalCSV.zip'\n",
    "    print(cwd_path + '  ' + base_name)\n",
    "    ftp.cwd(cwd_path)\n",
    "    with open(base_name, 'wb') as fp:\n",
    "        ftp.retrbinary('RETR ' + base_name, fp.write)\n",
    "        print('Complete ' + base_name)\n",
    "    ftp.cwd(cwd_back)\n",
    "ftp.close()"
   ]
  },
  {
   "cell_type": "code",
   "execution_count": 6,
   "metadata": {},
   "outputs": [
    {
     "data": {
      "text/plain": [
       "'230 User logged in.'"
      ]
     },
     "execution_count": 6,
     "metadata": {},
     "output_type": "execute_result"
    }
   ],
   "source": [
    "ftp = FTP('nhtsa.gov')\n",
    "ftp.login()"
   ]
  },
  {
   "cell_type": "code",
   "execution_count": 7,
   "metadata": {},
   "outputs": [],
   "source": [
    "years = range(2001,2010)"
   ]
  },
  {
   "cell_type": "code",
   "execution_count": 8,
   "metadata": {},
   "outputs": [
    {
     "name": "stdout",
     "output_type": "stream",
     "text": [
      "FARS/FARS-DOC  DEFS2009.zip\n",
      "Complete DEFS2009.zip\n"
     ]
    }
   ],
   "source": [
    "cwd_path = f'FARS/FARS-DOC'\n",
    "ftp.cwd(cwd_path)\n",
    "for year in years:\n",
    "    base_name = f'DEFS{year}.zip'\n",
    "    print(cwd_path + '  ' + base_name)\n",
    "    with open(base_name, 'wb') as fp:\n",
    "        ftp.retrbinary('RETR ' + base_name, fp.write)\n",
    "        print('Complete ' + base_name)\n",
    "\n",
    "ftp.close()"
   ]
  },
  {
   "cell_type": "code",
   "execution_count": null,
   "metadata": {},
   "outputs": [],
   "source": []
  }
 ],
 "metadata": {
  "kernelspec": {
   "display_name": "Python 3",
   "language": "python",
   "name": "python3"
  },
  "language_info": {
   "codemirror_mode": {
    "name": "ipython",
    "version": 3
   },
   "file_extension": ".py",
   "mimetype": "text/x-python",
   "name": "python",
   "nbconvert_exporter": "python",
   "pygments_lexer": "ipython3",
   "version": "3.6.9"
  }
 },
 "nbformat": 4,
 "nbformat_minor": 2
}
