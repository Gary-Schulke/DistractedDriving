{
 "cells": [
  {
   "cell_type": "markdown",
   "metadata": {},
   "source": [
    "### Data Visualization Bootcamp - Final Project\n",
    "### This script downloads the zip files from the NHTSA FARS ftp site for the years 1975 to 2018. \n",
    "#### No user name or password is required to access this site.\n",
    "##### Gary Schulke"
   ]
  },
  {
   "cell_type": "code",
   "execution_count": 1,
   "metadata": {},
   "outputs": [],
   "source": [
    "from ftplib import FTP"
   ]
  },
  {
   "cell_type": "code",
   "execution_count": 2,
   "metadata": {},
   "outputs": [
    {
     "data": {
      "text/plain": [
       "'230 User logged in.'"
      ]
     },
     "execution_count": 2,
     "metadata": {},
     "output_type": "execute_result"
    }
   ],
   "source": [
    "ftp = FTP('nhtsa.gov')\n",
    "ftp.login()"
   ]
  },
  {
   "cell_type": "code",
   "execution_count": 3,
   "metadata": {},
   "outputs": [],
   "source": [
    "years = range(1975,2019)"
   ]
  },
  {
   "cell_type": "code",
   "execution_count": 4,
   "metadata": {},
   "outputs": [
    {
     "data": {
      "text/plain": [
       "'250 CWD command successful.'"
      ]
     },
     "execution_count": 4,
     "metadata": {},
     "output_type": "execute_result"
    }
   ],
   "source": [
    "ftp.cwd('FARS')"
   ]
  },
  {
   "cell_type": "code",
   "execution_count": 5,
   "metadata": {},
   "outputs": [
    {
     "name": "stdout",
     "output_type": "stream",
     "text": [
      "2018/National  FARS2018NationalCSV.zip\n",
      "Complete FARS2018NationalCSV.zip\n"
     ]
    }
   ],
   "source": [
    "for year in years:\n",
    "    cwd_path = f'{year}/National'\n",
    "    cwd_back = '../..'\n",
    "    base_name = f'FARS{year}NationalCSV.zip'\n",
    "    print(cwd_path + '  ' + base_name)\n",
    "    ftp.cwd(cwd_path)\n",
    "    with open(base_name, 'wb') as fp:\n",
    "        ftp.retrbinary('RETR ' + base_name, fp.write)\n",
    "        print('Complete ' + base_name)\n",
    "    ftp.cwd(cwd_back)\n",
    "ftp.close()"
   ]
  },
  {
   "cell_type": "code",
   "execution_count": 6,
   "metadata": {},
   "outputs": [
    {
     "data": {
      "text/plain": [
       "'230 User logged in.'"
      ]
     },
     "execution_count": 6,
     "metadata": {},
     "output_type": "execute_result"
    }
   ],
   "source": [
    "ftp = FTP('nhtsa.gov')\n",
    "ftp.login()"
   ]
  },
  {
   "cell_type": "code",
   "execution_count": 7,
   "metadata": {},
   "outputs": [],
   "source": [
    "years = range(2001,2010)"
   ]
  },
  {
   "cell_type": "code",
   "execution_count": 8,
   "metadata": {},
   "outputs": [
    {
     "name": "stdout",
     "output_type": "stream",
     "text": [
      "FARS/FARS-DOC  DEFS2009.zip\n",
      "Complete DEFS2009.zip\n"
     ]
    }
   ],
   "source": [
    "cwd_path = f'FARS/FARS-DOC'\n",
    "ftp.cwd(cwd_path)\n",
    "for year in years:\n",
    "    base_name = f'DEFS{year}.zip'\n",
    "    print(cwd_path + '  ' + base_name)\n",
    "    with open(base_name, 'wb') as fp:\n",
    "        ftp.retrbinary('RETR ' + base_name, fp.write)\n",
    "        print('Complete ' + base_name)\n",
    "\n",
    "ftp.close()"
   ]
  },
  {
   "cell_type": "code",
   "execution_count": 1,
   "metadata": {},
   "outputs": [],
   "source": [
    "# One of the experimental scripts used for grouping a range of values.\n",
    "# Rounds down dependent on the value passed in as divisor\n",
    "# num (any numerical value)\n",
    "# divisor (any number but integers make the most sense)\n",
    "# Returns the rounded down number.\n",
    "from math import floor\n",
    "def round_down(num, divisor):\n",
    "    return floor(num / divisor) * divisor"
   ]
  },
  {
   "cell_type": "code",
   "execution_count": 5,
   "metadata": {},
   "outputs": [
    {
     "data": {
      "text/plain": [
       "200.2"
      ]
     },
     "execution_count": 5,
     "metadata": {},
     "output_type": "execute_result"
    }
   ],
   "source": [
    "round_down(299.6, 100.1)"
   ]
  },
  {
   "cell_type": "code",
   "execution_count": null,
   "metadata": {},
   "outputs": [],
   "source": []
  }
 ],
 "metadata": {
  "kernelspec": {
   "display_name": "Python 3",
   "language": "python",
   "name": "python3"
  },
  "language_info": {
   "codemirror_mode": {
    "name": "ipython",
    "version": 3
   },
   "file_extension": ".py",
   "mimetype": "text/x-python",
   "name": "python",
   "nbconvert_exporter": "python",
   "pygments_lexer": "ipython3",
   "version": "3.6.9"
  }
 },
 "nbformat": 4,
 "nbformat_minor": 2
}
