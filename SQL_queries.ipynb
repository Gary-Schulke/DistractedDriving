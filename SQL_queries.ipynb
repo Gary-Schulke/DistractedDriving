{
  "nbformat": 4,
  "nbformat_minor": 0,
  "metadata": {
    "colab": {
      "name": "SQL_queries.ipynb",
      "provenance": [],
      "machine_shape": "hm",
      "authorship_tag": "ABX9TyO9lXhqukhtfQKTaG1g5I8P",
      "include_colab_link": true
    },
    "kernelspec": {
      "name": "python3",
      "display_name": "Python 3"
    }
  },
  "cells": [
    {
      "cell_type": "markdown",
      "metadata": {
        "id": "view-in-github",
        "colab_type": "text"
      },
      "source": [
        "<a href=\"https://colab.research.google.com/github/Gary-Schulke/Project3Startup/blob/master/SQL_queries.ipynb\" target=\"_parent\"><img src=\"https://colab.research.google.com/assets/colab-badge.svg\" alt=\"Open In Colab\"/></a>"
      ]
    },
    {
      "cell_type": "code",
      "metadata": {
        "id": "PDuwRdrBHm0T",
        "colab_type": "code",
        "colab": {
          "base_uri": "https://localhost:8080/",
          "height": 71
        },
        "outputId": "b787eae8-13ce-4c6f-9da6-37555d0e3ec6"
      },
      "source": [
        "import pandas as pd\n",
        "import numpy as np\n",
        "import sqlalchemy\n",
        "import psycopg2\n",
        "from sqlalchemy.ext.automap import automap_base\n",
        "from sqlalchemy.orm import Session\n",
        "from sqlalchemy import create_engine\n",
        "from sqlalchemy.ext.declarative import declarative_base\n",
        "Base = declarative_base()"
      ],
      "execution_count": 1,
      "outputs": [
        {
          "output_type": "stream",
          "text": [
            "/usr/local/lib/python3.6/dist-packages/psycopg2/__init__.py:144: UserWarning: The psycopg2 wheel package will be renamed from release 2.8; in order to keep installing from binary please use \"pip install psycopg2-binary\" instead. For details see: <http://initd.org/psycopg/docs/install.html#binary-install-from-pypi>.\n",
            "  \"\"\")\n"
          ],
          "name": "stderr"
        }
      ]
    },
    {
      "cell_type": "code",
      "metadata": {
        "id": "K07vcp24cG4I",
        "colab_type": "code",
        "colab": {}
      },
      "source": [
        "connection = psycopg2.connect(\n",
        "    host = 'myprojectdb.cqbbih9hnlbh.us-east-1.rds.amazonaws.com',\n",
        "    port = 5432,\n",
        "    user = 'root',\n",
        "    password = 'finalproject',\n",
        "    database='root'\n",
        "    )\n",
        "cursor=connection.cursor()"
      ],
      "execution_count": 0,
      "outputs": []
    },
    {
      "cell_type": "code",
      "metadata": {
        "id": "LVD5TzIHc5mA",
        "colab_type": "code",
        "colab": {}
      },
      "source": [
        "sql = \"\"\"\n",
        "SELECT a.state, a.state_case, a.veh_crash, a.pedestrians, a.motorists_involved, a.rural_urban, a.latitude, a.longitude, \\\n",
        "a.fatalities, a.drunk_drivers, a.city, a.day, a.month, a.year, a.hour, a.light_conditions, d.distract_num, i.imparement_num, \\\n",
        "p.person_num, p.age, p.injury_severity, p.alc_involved, p.alc_test_result, p.drugs, p.drug_num\n",
        "FROM accident a \n",
        "JOIN distract d ON a.state_case = d.state_case AND a.year = d.year\n",
        "JOIN drimpair i ON a.state_case = i.state_case AND a.year = i.year\n",
        "JOIN person p ON a.state_case = p.state_case AND a.year = p.year\n",
        "WHERE a.year = 2012\n",
        "\"\"\"\n",
        "accident12 = pd.read_sql(sql, con=connection)"
      ],
      "execution_count": 0,
      "outputs": []
    },
    {
      "cell_type": "code",
      "metadata": {
        "id": "0IICKP63jW5w",
        "colab_type": "code",
        "colab": {}
      },
      "source": [
        "sql = \"\"\"\n",
        "SELECT a.state, a.state_case, a.veh_crash, a.pedestrians, a.motorists_involved, a.rural_urban, a.latitude, a.longitude, \\\n",
        "a.fatalities, a.drunk_drivers, a.city, a.day, a.month, a.year, a.hour, a.light_conditions, d.distract_num, i.imparement_num, \\\n",
        "p.person_num, p.age, p.injury_severity, p.alc_involved, p.alc_test_result, p.drugs, p.drug_num\n",
        "FROM accident a \n",
        "JOIN distract d ON a.state_case = d.state_case AND a.year = d.year\n",
        "JOIN drimpair i ON a.state_case = i.state_case AND a.year = i.year\n",
        "JOIN person p ON a.state_case = p.state_case AND a.year = p.year\n",
        "WHERE a.year = 2013\n",
        "\"\"\"\n",
        "accident13 = pd.read_sql(sql, con=connection)"
      ],
      "execution_count": 0,
      "outputs": []
    },
    {
      "cell_type": "code",
      "metadata": {
        "id": "-XH5dX_ajbjP",
        "colab_type": "code",
        "colab": {}
      },
      "source": [
        "sql = \"\"\"\n",
        "SELECT a.state, a.state_case, a.veh_crash, a.pedestrians, a.motorists_involved, a.rural_urban, a.latitude, a.longitude, \\\n",
        "a.fatalities, a.drunk_drivers, a.city, a.day, a.month, a.year, a.hour, a.light_conditions, d.distract_num, i.imparement_num, \\\n",
        "p.person_num, p.age, p.injury_severity, p.alc_involved, p.alc_test_result, p.drugs, p.drug_num\n",
        "FROM accident a \n",
        "JOIN distract d ON a.state_case = d.state_case AND a.year = d.year\n",
        "JOIN drimpair i ON a.state_case = i.state_case AND a.year = i.year\n",
        "JOIN person p ON a.state_case = p.state_case AND a.year = p.year\n",
        "WHERE a.year = 2014\n",
        "\"\"\"\n",
        "accident14 = pd.read_sql(sql, con=connection)"
      ],
      "execution_count": 0,
      "outputs": []
    },
    {
      "cell_type": "code",
      "metadata": {
        "id": "l-bPFdpHjd0Y",
        "colab_type": "code",
        "colab": {}
      },
      "source": [
        "sql = \"\"\"\n",
        "SELECT a.state, a.state_case, a.veh_crash, a.pedestrians, a.motorists_involved, a.rural_urban, a.latitude, a.longitude, \\\n",
        "a.fatalities, a.drunk_drivers, a.city, a.day, a.month, a.year, a.hour, a.light_conditions, d.distract_num, i.imparement_num, \\\n",
        "p.person_num, p.age, p.injury_severity, p.alc_involved, p.alc_test_result, p.drugs, p.drug_num\n",
        "FROM accident a \n",
        "JOIN distract d ON a.state_case = d.state_case AND a.year = d.year\n",
        "JOIN drimpair i ON a.state_case = i.state_case AND a.year = i.year\n",
        "JOIN person p ON a.state_case = p.state_case AND a.year = p.year\n",
        "WHERE a.year = 2015\n",
        "\"\"\"\n",
        "accident15 = pd.read_sql(sql, con=connection)"
      ],
      "execution_count": 0,
      "outputs": []
    },
    {
      "cell_type": "code",
      "metadata": {
        "id": "Icabu_IOjf8W",
        "colab_type": "code",
        "colab": {}
      },
      "source": [
        "sql = \"\"\"\n",
        "SELECT a.state, a.state_case, a.veh_crash, a.pedestrians, a.motorists_involved, a.rural_urban, a.latitude, a.longitude, \\\n",
        "a.fatalities, a.drunk_drivers, a.city, a.day, a.month, a.year, a.hour, a.light_conditions, d.distract_num, i.imparement_num, \\\n",
        "p.person_num, p.age, p.injury_severity, p.alc_involved, p.alc_test_result, p.drugs, p.drug_num\n",
        "FROM accident a \n",
        "JOIN distract d ON a.state_case = d.state_case AND a.year = d.year\n",
        "JOIN drimpair i ON a.state_case = i.state_case AND a.year = i.year\n",
        "JOIN person p ON a.state_case = p.state_case AND a.year = p.year\n",
        "WHERE a.year = 2016\n",
        "\"\"\"\n",
        "accident16 = pd.read_sql(sql, con=connection)"
      ],
      "execution_count": 0,
      "outputs": []
    },
    {
      "cell_type": "code",
      "metadata": {
        "id": "361gQMTYjiiB",
        "colab_type": "code",
        "colab": {}
      },
      "source": [
        "sql = \"\"\"\n",
        "SELECT a.state, a.state_case, a.veh_crash, a.pedestrians, a.motorists_involved, a.rural_urban, a.latitude, a.longitude, \\\n",
        "a.fatalities, a.drunk_drivers, a.city, a.day, a.month, a.year, a.hour, a.light_conditions, d.distract_num, i.imparement_num, \\\n",
        "p.person_num, p.age, p.injury_severity, p.alc_involved, p.alc_test_result, p.drugs, p.drug_num\n",
        "FROM accident a \n",
        "JOIN distract d ON a.state_case = d.state_case AND a.year = d.year\n",
        "JOIN drimpair i ON a.state_case = i.state_case AND a.year = i.year\n",
        "JOIN person p ON a.state_case = p.state_case AND a.year = p.year\n",
        "WHERE a.year = 2017\n",
        "\"\"\"\n",
        "accident17 = pd.read_sql(sql, con=connection)"
      ],
      "execution_count": 0,
      "outputs": []
    },
    {
      "cell_type": "code",
      "metadata": {
        "id": "yJ3dbVcljlFL",
        "colab_type": "code",
        "colab": {}
      },
      "source": [
        "sql = \"\"\"\n",
        "SELECT a.state, a.state_case, a.veh_crash, a.pedestrians, a.motorists_involved, a.rural_urban, a.latitude, a.longitude, \\\n",
        "a.fatalities, a.drunk_drivers, a.city, a.day, a.month, a.year, a.hour, a.light_conditions, d.distract_num, i.imparement_num, \\\n",
        "p.person_num, p.age, p.injury_severity, p.alc_involved, p.alc_test_result, p.drugs, p.drug_num\n",
        "FROM accident a \n",
        "JOIN distract d ON a.state_case = d.state_case AND a.year = d.year\n",
        "JOIN drimpair i ON a.state_case = i.state_case AND a.year = i.year\n",
        "JOIN person p ON a.state_case = p.state_case AND a.year = p.year\n",
        "WHERE a.year = 2018\n",
        "\"\"\"\n",
        "accident18 = pd.read_sql(sql, con=connection)"
      ],
      "execution_count": 0,
      "outputs": []
    },
    {
      "cell_type": "code",
      "metadata": {
        "id": "U75t4pE3xnM7",
        "colab_type": "code",
        "colab": {}
      },
      "source": [
        "accidentdf = pd.concat([accident12, accident13, accident14, accident15, accident16, accident17, accident18])"
      ],
      "execution_count": 0,
      "outputs": []
    },
    {
      "cell_type": "code",
      "metadata": {
        "id": "JYFoofg-e-Lf",
        "colab_type": "code",
        "colab": {}
      },
      "source": [
        "target = accidentdf[\"fatalities\"]\n",
        "target_names = [0,1,2,3,4,5]"
      ],
      "execution_count": 0,
      "outputs": []
    },
    {
      "cell_type": "code",
      "metadata": {
        "id": "lASr8jhCi0C5",
        "colab_type": "code",
        "colab": {
          "base_uri": "https://localhost:8080/",
          "height": 439
        },
        "outputId": "47f925d2-db1a-4dc8-f577-9e9b38f23c16"
      },
      "source": [
        "accidentdf = accidentdf.drop(\"fatalities\", axis=1)\n",
        "accidentdf = accidentdf.drop(\"state\", axis=1)\n",
        "accidentdf = accidentdf.drop(\"state_case\", axis=1)\n",
        "feature_names = accidentdf.columns\n",
        "accidentdf"
      ],
      "execution_count": 15,
      "outputs": [
        {
          "output_type": "execute_result",
          "data": {
            "text/html": [
              "<div>\n",
              "<style scoped>\n",
              "    .dataframe tbody tr th:only-of-type {\n",
              "        vertical-align: middle;\n",
              "    }\n",
              "\n",
              "    .dataframe tbody tr th {\n",
              "        vertical-align: top;\n",
              "    }\n",
              "\n",
              "    .dataframe thead th {\n",
              "        text-align: right;\n",
              "    }\n",
              "</style>\n",
              "<table border=\"1\" class=\"dataframe\">\n",
              "  <thead>\n",
              "    <tr style=\"text-align: right;\">\n",
              "      <th></th>\n",
              "      <th>veh_crash</th>\n",
              "      <th>pedestrians</th>\n",
              "      <th>motorists_involved</th>\n",
              "      <th>rural_urban</th>\n",
              "      <th>latitude</th>\n",
              "      <th>longitude</th>\n",
              "      <th>drunk_drivers</th>\n",
              "      <th>city</th>\n",
              "      <th>day</th>\n",
              "      <th>month</th>\n",
              "      <th>year</th>\n",
              "      <th>hour</th>\n",
              "      <th>light_conditions</th>\n",
              "      <th>distract_num</th>\n",
              "      <th>imparement_num</th>\n",
              "      <th>person_num</th>\n",
              "      <th>age</th>\n",
              "      <th>injury_severity</th>\n",
              "      <th>alc_involved</th>\n",
              "      <th>alc_test_result</th>\n",
              "      <th>drugs</th>\n",
              "      <th>drug_num</th>\n",
              "    </tr>\n",
              "  </thead>\n",
              "  <tbody>\n",
              "    <tr>\n",
              "      <th>0</th>\n",
              "      <td>1</td>\n",
              "      <td>0</td>\n",
              "      <td>2</td>\n",
              "      <td>1</td>\n",
              "      <td>32.701317</td>\n",
              "      <td>-85.5252</td>\n",
              "      <td>1</td>\n",
              "      <td>0</td>\n",
              "      <td>1</td>\n",
              "      <td>1</td>\n",
              "      <td>2012</td>\n",
              "      <td>20</td>\n",
              "      <td>2</td>\n",
              "      <td>10</td>\n",
              "      <td>0</td>\n",
              "      <td>1</td>\n",
              "      <td>22</td>\n",
              "      <td>2</td>\n",
              "      <td>0</td>\n",
              "      <td>2</td>\n",
              "      <td>0</td>\n",
              "      <td>1</td>\n",
              "    </tr>\n",
              "    <tr>\n",
              "      <th>1</th>\n",
              "      <td>1</td>\n",
              "      <td>0</td>\n",
              "      <td>2</td>\n",
              "      <td>1</td>\n",
              "      <td>32.701317</td>\n",
              "      <td>-85.5252</td>\n",
              "      <td>1</td>\n",
              "      <td>0</td>\n",
              "      <td>1</td>\n",
              "      <td>1</td>\n",
              "      <td>2012</td>\n",
              "      <td>20</td>\n",
              "      <td>2</td>\n",
              "      <td>10</td>\n",
              "      <td>0</td>\n",
              "      <td>1</td>\n",
              "      <td>22</td>\n",
              "      <td>2</td>\n",
              "      <td>0</td>\n",
              "      <td>2</td>\n",
              "      <td>0</td>\n",
              "      <td>1</td>\n",
              "    </tr>\n",
              "    <tr>\n",
              "      <th>2</th>\n",
              "      <td>1</td>\n",
              "      <td>0</td>\n",
              "      <td>2</td>\n",
              "      <td>1</td>\n",
              "      <td>32.701317</td>\n",
              "      <td>-85.5252</td>\n",
              "      <td>1</td>\n",
              "      <td>0</td>\n",
              "      <td>1</td>\n",
              "      <td>1</td>\n",
              "      <td>2012</td>\n",
              "      <td>20</td>\n",
              "      <td>2</td>\n",
              "      <td>10</td>\n",
              "      <td>0</td>\n",
              "      <td>2</td>\n",
              "      <td>20</td>\n",
              "      <td>4</td>\n",
              "      <td>8</td>\n",
              "      <td>96</td>\n",
              "      <td>8</td>\n",
              "      <td>0</td>\n",
              "    </tr>\n",
              "    <tr>\n",
              "      <th>3</th>\n",
              "      <td>1</td>\n",
              "      <td>0</td>\n",
              "      <td>2</td>\n",
              "      <td>1</td>\n",
              "      <td>32.701317</td>\n",
              "      <td>-85.5252</td>\n",
              "      <td>1</td>\n",
              "      <td>0</td>\n",
              "      <td>1</td>\n",
              "      <td>1</td>\n",
              "      <td>2012</td>\n",
              "      <td>20</td>\n",
              "      <td>2</td>\n",
              "      <td>10</td>\n",
              "      <td>0</td>\n",
              "      <td>2</td>\n",
              "      <td>20</td>\n",
              "      <td>4</td>\n",
              "      <td>8</td>\n",
              "      <td>96</td>\n",
              "      <td>8</td>\n",
              "      <td>0</td>\n",
              "    </tr>\n",
              "    <tr>\n",
              "      <th>4</th>\n",
              "      <td>2</td>\n",
              "      <td>0</td>\n",
              "      <td>1</td>\n",
              "      <td>2</td>\n",
              "      <td>34.742508</td>\n",
              "      <td>-86.8835</td>\n",
              "      <td>0</td>\n",
              "      <td>0</td>\n",
              "      <td>1</td>\n",
              "      <td>1</td>\n",
              "      <td>2012</td>\n",
              "      <td>13</td>\n",
              "      <td>1</td>\n",
              "      <td>0</td>\n",
              "      <td>0</td>\n",
              "      <td>1</td>\n",
              "      <td>10</td>\n",
              "      <td>4</td>\n",
              "      <td>0</td>\n",
              "      <td>96</td>\n",
              "      <td>0</td>\n",
              "      <td>0</td>\n",
              "    </tr>\n",
              "    <tr>\n",
              "      <th>...</th>\n",
              "      <td>...</td>\n",
              "      <td>...</td>\n",
              "      <td>...</td>\n",
              "      <td>...</td>\n",
              "      <td>...</td>\n",
              "      <td>...</td>\n",
              "      <td>...</td>\n",
              "      <td>...</td>\n",
              "      <td>...</td>\n",
              "      <td>...</td>\n",
              "      <td>...</td>\n",
              "      <td>...</td>\n",
              "      <td>...</td>\n",
              "      <td>...</td>\n",
              "      <td>...</td>\n",
              "      <td>...</td>\n",
              "      <td>...</td>\n",
              "      <td>...</td>\n",
              "      <td>...</td>\n",
              "      <td>...</td>\n",
              "      <td>...</td>\n",
              "      <td>...</td>\n",
              "    </tr>\n",
              "    <tr>\n",
              "      <th>837471</th>\n",
              "      <td>3</td>\n",
              "      <td>0</td>\n",
              "      <td>3</td>\n",
              "      <td>1</td>\n",
              "      <td>31.747336</td>\n",
              "      <td>-82.4993</td>\n",
              "      <td>0</td>\n",
              "      <td>0</td>\n",
              "      <td>22</td>\n",
              "      <td>10</td>\n",
              "      <td>2018</td>\n",
              "      <td>8</td>\n",
              "      <td>1</td>\n",
              "      <td>96</td>\n",
              "      <td>98</td>\n",
              "      <td>1</td>\n",
              "      <td>22</td>\n",
              "      <td>0</td>\n",
              "      <td>8</td>\n",
              "      <td>996</td>\n",
              "      <td>8</td>\n",
              "      <td>0</td>\n",
              "    </tr>\n",
              "    <tr>\n",
              "      <th>837472</th>\n",
              "      <td>1</td>\n",
              "      <td>0</td>\n",
              "      <td>2</td>\n",
              "      <td>2</td>\n",
              "      <td>34.653386</td>\n",
              "      <td>-85.2846</td>\n",
              "      <td>0</td>\n",
              "      <td>0</td>\n",
              "      <td>23</td>\n",
              "      <td>10</td>\n",
              "      <td>2018</td>\n",
              "      <td>16</td>\n",
              "      <td>1</td>\n",
              "      <td>96</td>\n",
              "      <td>0</td>\n",
              "      <td>1</td>\n",
              "      <td>23</td>\n",
              "      <td>4</td>\n",
              "      <td>0</td>\n",
              "      <td>996</td>\n",
              "      <td>8</td>\n",
              "      <td>0</td>\n",
              "    </tr>\n",
              "    <tr>\n",
              "      <th>837473</th>\n",
              "      <td>1</td>\n",
              "      <td>0</td>\n",
              "      <td>2</td>\n",
              "      <td>2</td>\n",
              "      <td>34.653386</td>\n",
              "      <td>-85.2846</td>\n",
              "      <td>0</td>\n",
              "      <td>0</td>\n",
              "      <td>23</td>\n",
              "      <td>10</td>\n",
              "      <td>2018</td>\n",
              "      <td>16</td>\n",
              "      <td>1</td>\n",
              "      <td>96</td>\n",
              "      <td>0</td>\n",
              "      <td>1</td>\n",
              "      <td>23</td>\n",
              "      <td>4</td>\n",
              "      <td>0</td>\n",
              "      <td>996</td>\n",
              "      <td>8</td>\n",
              "      <td>0</td>\n",
              "    </tr>\n",
              "    <tr>\n",
              "      <th>837474</th>\n",
              "      <td>1</td>\n",
              "      <td>0</td>\n",
              "      <td>2</td>\n",
              "      <td>2</td>\n",
              "      <td>34.653386</td>\n",
              "      <td>-85.2846</td>\n",
              "      <td>0</td>\n",
              "      <td>0</td>\n",
              "      <td>23</td>\n",
              "      <td>10</td>\n",
              "      <td>2018</td>\n",
              "      <td>16</td>\n",
              "      <td>1</td>\n",
              "      <td>96</td>\n",
              "      <td>0</td>\n",
              "      <td>2</td>\n",
              "      <td>0</td>\n",
              "      <td>0</td>\n",
              "      <td>8</td>\n",
              "      <td>996</td>\n",
              "      <td>8</td>\n",
              "      <td>0</td>\n",
              "    </tr>\n",
              "    <tr>\n",
              "      <th>837475</th>\n",
              "      <td>1</td>\n",
              "      <td>0</td>\n",
              "      <td>2</td>\n",
              "      <td>2</td>\n",
              "      <td>34.653386</td>\n",
              "      <td>-85.2846</td>\n",
              "      <td>0</td>\n",
              "      <td>0</td>\n",
              "      <td>23</td>\n",
              "      <td>10</td>\n",
              "      <td>2018</td>\n",
              "      <td>16</td>\n",
              "      <td>1</td>\n",
              "      <td>96</td>\n",
              "      <td>0</td>\n",
              "      <td>2</td>\n",
              "      <td>0</td>\n",
              "      <td>0</td>\n",
              "      <td>8</td>\n",
              "      <td>996</td>\n",
              "      <td>8</td>\n",
              "      <td>0</td>\n",
              "    </tr>\n",
              "  </tbody>\n",
              "</table>\n",
              "<p>9271422 rows × 22 columns</p>\n",
              "</div>"
            ],
            "text/plain": [
              "        veh_crash  pedestrians  ...  drugs  drug_num\n",
              "0               1            0  ...      0         1\n",
              "1               1            0  ...      0         1\n",
              "2               1            0  ...      8         0\n",
              "3               1            0  ...      8         0\n",
              "4               2            0  ...      0         0\n",
              "...           ...          ...  ...    ...       ...\n",
              "837471          3            0  ...      8         0\n",
              "837472          1            0  ...      8         0\n",
              "837473          1            0  ...      8         0\n",
              "837474          1            0  ...      8         0\n",
              "837475          1            0  ...      8         0\n",
              "\n",
              "[9271422 rows x 22 columns]"
            ]
          },
          "metadata": {
            "tags": []
          },
          "execution_count": 15
        }
      ]
    },
    {
      "cell_type": "code",
      "metadata": {
        "id": "uinK6BS_i1pV",
        "colab_type": "code",
        "colab": {}
      },
      "source": [
        "from sklearn.model_selection import train_test_split\n",
        "X_train, X_test, y_train, y_test = train_test_split(accidentdf, target, random_state=42)"
      ],
      "execution_count": 0,
      "outputs": []
    },
    {
      "cell_type": "code",
      "metadata": {
        "id": "puVtHzhIiitR",
        "colab_type": "code",
        "colab": {
          "base_uri": "https://localhost:8080/",
          "height": 34
        },
        "outputId": "3020a9b9-ce93-4882-d983-bc0173073f46"
      },
      "source": [
        "from sklearn import tree\n",
        "clf = tree.DecisionTreeClassifier()\n",
        "clf = clf.fit(X_train, y_train)\n",
        "clf.score(X_test, y_test)"
      ],
      "execution_count": 18,
      "outputs": [
        {
          "output_type": "execute_result",
          "data": {
            "text/plain": [
              "0.9984873952480223"
            ]
          },
          "metadata": {
            "tags": []
          },
          "execution_count": 18
        }
      ]
    },
    {
      "cell_type": "code",
      "metadata": {
        "id": "z1aB1ZKSilx1",
        "colab_type": "code",
        "colab": {
          "base_uri": "https://localhost:8080/",
          "height": 34
        },
        "outputId": "f2d92015-e003-4388-d65c-6bb93f4466e1"
      },
      "source": [
        "from sklearn.ensemble import RandomForestClassifier\n",
        "rf = RandomForestClassifier(n_estimators=200)\n",
        "rf = rf.fit(X_train, y_train)\n",
        "rf.score(X_test, y_test)"
      ],
      "execution_count": 19,
      "outputs": [
        {
          "output_type": "execute_result",
          "data": {
            "text/plain": [
              "0.999288998108597"
            ]
          },
          "metadata": {
            "tags": []
          },
          "execution_count": 19
        }
      ]
    },
    {
      "cell_type": "code",
      "metadata": {
        "id": "LAfhfk_BiqTJ",
        "colab_type": "code",
        "colab": {
          "base_uri": "https://localhost:8080/",
          "height": 391
        },
        "outputId": "55ccd43b-9bde-4bf8-962d-fea8fc0404e5"
      },
      "source": [
        "sorted(zip(rf.feature_importances_, feature_names), reverse=True)"
      ],
      "execution_count": 20,
      "outputs": [
        {
          "output_type": "execute_result",
          "data": {
            "text/plain": [
              "[(0.1541137660493383, 'motorists_involved'),\n",
              " (0.14910834431899156, 'veh_crash'),\n",
              " (0.14595253928470633, 'longitude'),\n",
              " (0.10480682488138758, 'latitude'),\n",
              " (0.06570230373753343, 'month'),\n",
              " (0.06201753442910911, 'day'),\n",
              " (0.061724315566221405, 'hour'),\n",
              " (0.04830331944886472, 'year'),\n",
              " (0.03489541320343597, 'city'),\n",
              " (0.026618225551238727, 'rural_urban'),\n",
              " (0.02336310347962602, 'light_conditions'),\n",
              " (0.021413830170365356, 'age'),\n",
              " (0.014835809912219083, 'alc_test_result'),\n",
              " (0.01222810727738738, 'distract_num'),\n",
              " (0.012093792651567233, 'injury_severity'),\n",
              " (0.011367620071256638, 'pedestrians'),\n",
              " (0.009391550341385906, 'imparement_num'),\n",
              " (0.00903379077111466, 'drugs'),\n",
              " (0.008762970912781809, 'drunk_drivers'),\n",
              " (0.008516569218114006, 'person_num'),\n",
              " (0.008204027573744301, 'drug_num'),\n",
              " (0.007546241149610301, 'alc_involved')]"
            ]
          },
          "metadata": {
            "tags": []
          },
          "execution_count": 20
        }
      ]
    },
    {
      "cell_type": "code",
      "metadata": {
        "id": "UbVQuN8m_KeG",
        "colab_type": "code",
        "colab": {
          "base_uri": "https://localhost:8080/",
          "height": 164
        },
        "outputId": "845f7717-6cc8-491f-9a38-0ddfd9845d10"
      },
      "source": [
        ""
      ],
      "execution_count": 21,
      "outputs": [
        {
          "output_type": "error",
          "ename": "AttributeError",
          "evalue": "ignored",
          "traceback": [
            "\u001b[0;31m---------------------------------------------------------------------------\u001b[0m",
            "\u001b[0;31mAttributeError\u001b[0m                            Traceback (most recent call last)",
            "\u001b[0;32m<ipython-input-21-b448c2e46bf4>\u001b[0m in \u001b[0;36m<module>\u001b[0;34m()\u001b[0m\n\u001b[0;32m----> 1\u001b[0;31m \u001b[0mrf\u001b[0m\u001b[0;34m.\u001b[0m\u001b[0msave\u001b[0m\u001b[0;34m(\u001b[0m\u001b[0;34m\"accident_model.h5\"\u001b[0m\u001b[0;34m)\u001b[0m\u001b[0;34m\u001b[0m\u001b[0;34m\u001b[0m\u001b[0m\n\u001b[0m",
            "\u001b[0;31mAttributeError\u001b[0m: 'RandomForestClassifier' object has no attribute 'save'"
          ]
        }
      ]
    }
  ]
}